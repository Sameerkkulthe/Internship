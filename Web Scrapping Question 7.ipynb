{
 "cells": [
  {
   "cell_type": "code",
   "execution_count": 1,
   "metadata": {},
   "outputs": [
    {
     "ename": "SyntaxError",
     "evalue": "invalid syntax (<ipython-input-1-57c62773ba4d>, line 1)",
     "output_type": "error",
     "traceback": [
      "\u001b[1;36m  File \u001b[1;32m\"<ipython-input-1-57c62773ba4d>\"\u001b[1;36m, line \u001b[1;32m1\u001b[0m\n\u001b[1;33m    Scrape the data\u001b[0m\n\u001b[1;37m           ^\u001b[0m\n\u001b[1;31mSyntaxError\u001b[0m\u001b[1;31m:\u001b[0m invalid syntax\n"
     ]
    }
   ],
   "source": [
    "Scrape the data\n",
    "Save the data as a JSON Lines file\n",
    "from selectorlib import Extractor\n",
    "import requests \n",
    "import json \n",
    "from time import sleep\n",
    "# Create an Extractor by reading from the YAML file\n",
    "e = Extractor.from_yaml_file('selectors.yml')\n",
    "def scrape(url):    \n",
    "headers = {\n",
    "'authority': 'www.amazon.com',\n",
    "'pragma': 'no-cache',\n",
    "'cache-control': 'no-cache',\n",
    "'dnt': '1',\n",
    "'upgrade-insecure-requests': '1',\n",
    "'user-agent': 'Mozilla/5.0 (X11; CrOS x86_64 8172.45.0) AppleWebKit/537.36 (KHTML, like Gecko) Chrome/51.0.2704.64 Safari/537.36',\n",
    "'accept': 'text/html,application/xhtml+xml,application/xml;q=0.9,image/webp,image/apng,*/*;q=0.8,application/signed-exchange;v=b3;q=0.9',\n",
    "'sec-fetch-site': 'none',\n",
    "'sec-fetch-mode': 'navigate',\n",
    "'sec-fetch-dest': 'document',\n",
    "'accept-language': 'en-GB,en-US;q=0.9,en;q=0.8',\n",
    "}\n",
    "# Download the page using requests\n",
    "print(\"Downloading %s\"%url)\n",
    "r = requests.get(url, headers=headers)\n",
    "# Simple check to check if page was blocked (Usually 503)\n",
    "if r.status_code > 500:\n",
    "if \"To discuss automated access to Amazon data please contact\" in r.text:\n",
    "print(\"Page %s was blocked by Amazon. Please try using better proxies\\n\"%url)\n",
    "else:\n",
    "print(\"Page %s must have been blocked by Amazon as the status code was %d\"%(url,r.status_code))\n",
    "return None\n",
    "# Pass the HTML of the page and create \n",
    "return e.extract(r.text)\n",
    "# product_data = []\n",
    "with open(\"urls.txt\",'r') as urllist, open('output.jsonl','w') as outfile:\n",
    "for url in urllist.readlines():\n",
    "data = scrape(url) \n",
    "if data:\n",
    "json.dump(data,outfile)\n",
    "outfile.write(\"\\n\")\n",
    "# sleep(5)"
   ]
  },
  {
   "cell_type": "code",
   "execution_count": null,
   "metadata": {},
   "outputs": [],
   "source": []
  }
 ],
 "metadata": {
  "kernelspec": {
   "display_name": "Python 3",
   "language": "python",
   "name": "python3"
  },
  "language_info": {
   "codemirror_mode": {
    "name": "ipython",
    "version": 3
   },
   "file_extension": ".py",
   "mimetype": "text/x-python",
   "name": "python",
   "nbconvert_exporter": "python",
   "pygments_lexer": "ipython3",
   "version": "3.8.5"
  }
 },
 "nbformat": 4,
 "nbformat_minor": 4
}
