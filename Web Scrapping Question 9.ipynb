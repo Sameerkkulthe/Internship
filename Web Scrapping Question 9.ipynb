{
 "cells": [
  {
   "cell_type": "code",
   "execution_count": 2,
   "metadata": {},
   "outputs": [],
   "source": [
    "from bs4 import BeautifulSoup\n",
    "import requests\n",
    "import pandas as pd\n",
    "\n",
    "\n",
    "# internshala has three pages with python/Django development category \n",
    "# so by using format function we can scrap all pages.\n",
    "# best ex. of the web with multiple pages\n",
    "def get_url(page_no):\n",
    "    url = 'https://internshala.com/internships/python%2Fdjango-internship/page-{}'.format(page_no)\n",
    "    return url\n",
    "def gather_information():\n",
    "    data = {'Category':[],'company_name':[],'location':[],'start_date':[],'duration':[],'stipend':[],'apply_by':[],'detail':[]}\n",
    "    for i in range(1,4):\n",
    "        res = requests.get(get_url(i))\n",
    "        markup = res.content\n",
    "        soup = BeautifulSoup(markup,'lxml')\n",
    "        posts = soup.find_all('div',class_='container-fluid individual_internship')\n",
    "        for i in posts:\n",
    "            data['Category'].append(i.find('div',class_='heading_4_5').text)\n",
    "            data['company_name'].append(i.find('a',class_='link_display_like_text').text.strip())\n",
    "            data['location'].append(i.find('a',class_='location_link').text)\n",
    "            data['start_date'].append(i.find('div',class_='other_detail_item').find_next(id='start-date-first').text.strip().replace('Immediately',''))\n",
    "            data['duration'].append(i.find('div',class_='item_body',id=False).text.strip())\n",
    "            data['stipend'].append(i.find('span',class_='stipend').text)\n",
    "            data['apply_by'].append(i.find('div',class_='apply_by').find('div',class_='item_body').text)\n",
    "            data['detail'].append('https://internshala.com'+i.find('div',class_='button_container').a['href'])\n",
    "    \n",
    "    # create dataframe \n",
    "    df = pd.DataFrame(data)\n",
    "    # save file \n",
    "    df.to_csv('internship.csv')\n",
    "\n",
    "if __name__ == \"__main__\":\n",
    "    gather_information()\n"
   ]
  },
  {
   "cell_type": "code",
   "execution_count": null,
   "metadata": {},
   "outputs": [],
   "source": []
  },
  {
   "cell_type": "code",
   "execution_count": null,
   "metadata": {},
   "outputs": [],
   "source": []
  }
 ],
 "metadata": {
  "kernelspec": {
   "display_name": "Python 3",
   "language": "python",
   "name": "python3"
  },
  "language_info": {
   "codemirror_mode": {
    "name": "ipython",
    "version": 3
   },
   "file_extension": ".py",
   "mimetype": "text/x-python",
   "name": "python",
   "nbconvert_exporter": "python",
   "pygments_lexer": "ipython3",
   "version": "3.8.5"
  }
 },
 "nbformat": 4,
 "nbformat_minor": 4
}
